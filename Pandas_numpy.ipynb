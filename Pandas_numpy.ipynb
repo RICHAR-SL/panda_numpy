{
  "nbformat": 4,
  "nbformat_minor": 0,
  "metadata": {
    "colab": {
      "provenance": [],
      "authorship_tag": "ABX9TyOcvEZdlebrbE9Qx1n0/Itq",
      "include_colab_link": true
    },
    "kernelspec": {
      "name": "python3",
      "display_name": "Python 3"
    },
    "language_info": {
      "name": "python"
    }
  },
  "cells": [
    {
      "cell_type": "markdown",
      "metadata": {
        "id": "view-in-github",
        "colab_type": "text"
      },
      "source": [
        "<a href=\"https://colab.research.google.com/github/RICHAR-SL/panda_numpy/blob/main/Pandas_numpy.ipynb\" target=\"_parent\"><img src=\"https://colab.research.google.com/assets/colab-badge.svg\" alt=\"Open In Colab\"/></a>"
      ]
    },
    {
      "cell_type": "markdown",
      "source": [
        "Ejercicios con numpi y panda"
      ],
      "metadata": {
        "id": "3dJoWdLiwLaZ"
      }
    },
    {
      "cell_type": "markdown",
      "source": [
        "Ejercicio1: Programa que pregunte al usuario por las ventas de un rango de años y muestre por pantalla una serie con los datos de las ventas indexada por los años, antes y despues de aplicarles un descuento del 5%"
      ],
      "metadata": {
        "id": "IaNeluad0cgf"
      }
    },
    {
      "cell_type": "code",
      "execution_count": 3,
      "metadata": {
        "colab": {
          "base_uri": "https://localhost:8080/",
          "height": 443
        },
        "collapsed": true,
        "id": "bjctMAo3sLLa",
        "outputId": "a08de935-68b8-456f-b511-0f9a40c1fe7b"
      },
      "outputs": [
        {
          "name": "stdout",
          "output_type": "stream",
          "text": [
            "Introduce el año inicial 200\n",
            "Introduce el año final 202\n",
            "venta en el año 200: 100\n",
            "venta en el año 201: 200\n",
            "venta en el año 202: 0\n"
          ]
        },
        {
          "output_type": "error",
          "ename": "ValueError",
          "evalue": "If using all scalar values, you must pass an index",
          "traceback": [
            "\u001b[0;31m---------------------------------------------------------------------------\u001b[0m",
            "\u001b[0;31mValueError\u001b[0m                                Traceback (most recent call last)",
            "\u001b[0;32m/tmp/ipython-input-4046402598.py\u001b[0m in \u001b[0;36m<cell line: 0>\u001b[0;34m()\u001b[0m\n\u001b[1;32m      9\u001b[0m \u001b[0;32mfor\u001b[0m \u001b[0mi\u001b[0m \u001b[0;32min\u001b[0m \u001b[0mrange\u001b[0m\u001b[0;34m(\u001b[0m\u001b[0manio_inicio\u001b[0m\u001b[0;34m,\u001b[0m\u001b[0manio_final\u001b[0m\u001b[0;34m+\u001b[0m\u001b[0;36m1\u001b[0m\u001b[0;34m)\u001b[0m\u001b[0;34m:\u001b[0m\u001b[0;34m\u001b[0m\u001b[0;34m\u001b[0m\u001b[0m\n\u001b[1;32m     10\u001b[0m   \u001b[0mventas\u001b[0m\u001b[0;34m[\u001b[0m\u001b[0mi\u001b[0m\u001b[0;34m]\u001b[0m\u001b[0;34m=\u001b[0m\u001b[0mfloat\u001b[0m\u001b[0;34m(\u001b[0m\u001b[0minput\u001b[0m\u001b[0;34m(\u001b[0m\u001b[0;34m\"venta en el año \"\u001b[0m\u001b[0;34m+\u001b[0m\u001b[0mstr\u001b[0m\u001b[0;34m(\u001b[0m\u001b[0mi\u001b[0m\u001b[0;34m)\u001b[0m\u001b[0;34m+\u001b[0m\u001b[0;34m': '\u001b[0m\u001b[0;34m)\u001b[0m\u001b[0;34m)\u001b[0m\u001b[0;34m\u001b[0m\u001b[0;34m\u001b[0m\u001b[0m\n\u001b[0;32m---> 11\u001b[0;31m \u001b[0mventas\u001b[0m\u001b[0;34m=\u001b[0m \u001b[0mpd\u001b[0m\u001b[0;34m.\u001b[0m\u001b[0mDataFrame\u001b[0m\u001b[0;34m(\u001b[0m\u001b[0mventas\u001b[0m\u001b[0;34m)\u001b[0m\u001b[0;34m\u001b[0m\u001b[0;34m\u001b[0m\u001b[0m\n\u001b[0m\u001b[1;32m     12\u001b[0m \u001b[0mprint\u001b[0m\u001b[0;34m(\u001b[0m\u001b[0;34m'Ventas\\n'\u001b[0m\u001b[0;34m,\u001b[0m\u001b[0mventas\u001b[0m\u001b[0;34m)\u001b[0m\u001b[0;34m\u001b[0m\u001b[0;34m\u001b[0m\u001b[0m\n\u001b[1;32m     13\u001b[0m \u001b[0;34m\u001b[0m\u001b[0m\n",
            "\u001b[0;32m/usr/local/lib/python3.11/dist-packages/pandas/core/frame.py\u001b[0m in \u001b[0;36m__init__\u001b[0;34m(self, data, index, columns, dtype, copy)\u001b[0m\n\u001b[1;32m    776\u001b[0m         \u001b[0;32melif\u001b[0m \u001b[0misinstance\u001b[0m\u001b[0;34m(\u001b[0m\u001b[0mdata\u001b[0m\u001b[0;34m,\u001b[0m \u001b[0mdict\u001b[0m\u001b[0;34m)\u001b[0m\u001b[0;34m:\u001b[0m\u001b[0;34m\u001b[0m\u001b[0;34m\u001b[0m\u001b[0m\n\u001b[1;32m    777\u001b[0m             \u001b[0;31m# GH#38939 de facto copy defaults to False only in non-dict cases\u001b[0m\u001b[0;34m\u001b[0m\u001b[0;34m\u001b[0m\u001b[0m\n\u001b[0;32m--> 778\u001b[0;31m             \u001b[0mmgr\u001b[0m \u001b[0;34m=\u001b[0m \u001b[0mdict_to_mgr\u001b[0m\u001b[0;34m(\u001b[0m\u001b[0mdata\u001b[0m\u001b[0;34m,\u001b[0m \u001b[0mindex\u001b[0m\u001b[0;34m,\u001b[0m \u001b[0mcolumns\u001b[0m\u001b[0;34m,\u001b[0m \u001b[0mdtype\u001b[0m\u001b[0;34m=\u001b[0m\u001b[0mdtype\u001b[0m\u001b[0;34m,\u001b[0m \u001b[0mcopy\u001b[0m\u001b[0;34m=\u001b[0m\u001b[0mcopy\u001b[0m\u001b[0;34m,\u001b[0m \u001b[0mtyp\u001b[0m\u001b[0;34m=\u001b[0m\u001b[0mmanager\u001b[0m\u001b[0;34m)\u001b[0m\u001b[0;34m\u001b[0m\u001b[0;34m\u001b[0m\u001b[0m\n\u001b[0m\u001b[1;32m    779\u001b[0m         \u001b[0;32melif\u001b[0m \u001b[0misinstance\u001b[0m\u001b[0;34m(\u001b[0m\u001b[0mdata\u001b[0m\u001b[0;34m,\u001b[0m \u001b[0mma\u001b[0m\u001b[0;34m.\u001b[0m\u001b[0mMaskedArray\u001b[0m\u001b[0;34m)\u001b[0m\u001b[0;34m:\u001b[0m\u001b[0;34m\u001b[0m\u001b[0;34m\u001b[0m\u001b[0m\n\u001b[1;32m    780\u001b[0m             \u001b[0;32mfrom\u001b[0m \u001b[0mnumpy\u001b[0m\u001b[0;34m.\u001b[0m\u001b[0mma\u001b[0m \u001b[0;32mimport\u001b[0m \u001b[0mmrecords\u001b[0m\u001b[0;34m\u001b[0m\u001b[0;34m\u001b[0m\u001b[0m\n",
            "\u001b[0;32m/usr/local/lib/python3.11/dist-packages/pandas/core/internals/construction.py\u001b[0m in \u001b[0;36mdict_to_mgr\u001b[0;34m(data, index, columns, dtype, typ, copy)\u001b[0m\n\u001b[1;32m    501\u001b[0m             \u001b[0marrays\u001b[0m \u001b[0;34m=\u001b[0m \u001b[0;34m[\u001b[0m\u001b[0mx\u001b[0m\u001b[0;34m.\u001b[0m\u001b[0mcopy\u001b[0m\u001b[0;34m(\u001b[0m\u001b[0;34m)\u001b[0m \u001b[0;32mif\u001b[0m \u001b[0mhasattr\u001b[0m\u001b[0;34m(\u001b[0m\u001b[0mx\u001b[0m\u001b[0;34m,\u001b[0m \u001b[0;34m\"dtype\"\u001b[0m\u001b[0;34m)\u001b[0m \u001b[0;32melse\u001b[0m \u001b[0mx\u001b[0m \u001b[0;32mfor\u001b[0m \u001b[0mx\u001b[0m \u001b[0;32min\u001b[0m \u001b[0marrays\u001b[0m\u001b[0;34m]\u001b[0m\u001b[0;34m\u001b[0m\u001b[0;34m\u001b[0m\u001b[0m\n\u001b[1;32m    502\u001b[0m \u001b[0;34m\u001b[0m\u001b[0m\n\u001b[0;32m--> 503\u001b[0;31m     \u001b[0;32mreturn\u001b[0m \u001b[0marrays_to_mgr\u001b[0m\u001b[0;34m(\u001b[0m\u001b[0marrays\u001b[0m\u001b[0;34m,\u001b[0m \u001b[0mcolumns\u001b[0m\u001b[0;34m,\u001b[0m \u001b[0mindex\u001b[0m\u001b[0;34m,\u001b[0m \u001b[0mdtype\u001b[0m\u001b[0;34m=\u001b[0m\u001b[0mdtype\u001b[0m\u001b[0;34m,\u001b[0m \u001b[0mtyp\u001b[0m\u001b[0;34m=\u001b[0m\u001b[0mtyp\u001b[0m\u001b[0;34m,\u001b[0m \u001b[0mconsolidate\u001b[0m\u001b[0;34m=\u001b[0m\u001b[0mcopy\u001b[0m\u001b[0;34m)\u001b[0m\u001b[0;34m\u001b[0m\u001b[0;34m\u001b[0m\u001b[0m\n\u001b[0m\u001b[1;32m    504\u001b[0m \u001b[0;34m\u001b[0m\u001b[0m\n\u001b[1;32m    505\u001b[0m \u001b[0;34m\u001b[0m\u001b[0m\n",
            "\u001b[0;32m/usr/local/lib/python3.11/dist-packages/pandas/core/internals/construction.py\u001b[0m in \u001b[0;36marrays_to_mgr\u001b[0;34m(arrays, columns, index, dtype, verify_integrity, typ, consolidate)\u001b[0m\n\u001b[1;32m    112\u001b[0m         \u001b[0;31m# figure out the index, if necessary\u001b[0m\u001b[0;34m\u001b[0m\u001b[0;34m\u001b[0m\u001b[0m\n\u001b[1;32m    113\u001b[0m         \u001b[0;32mif\u001b[0m \u001b[0mindex\u001b[0m \u001b[0;32mis\u001b[0m \u001b[0;32mNone\u001b[0m\u001b[0;34m:\u001b[0m\u001b[0;34m\u001b[0m\u001b[0;34m\u001b[0m\u001b[0m\n\u001b[0;32m--> 114\u001b[0;31m             \u001b[0mindex\u001b[0m \u001b[0;34m=\u001b[0m \u001b[0m_extract_index\u001b[0m\u001b[0;34m(\u001b[0m\u001b[0marrays\u001b[0m\u001b[0;34m)\u001b[0m\u001b[0;34m\u001b[0m\u001b[0;34m\u001b[0m\u001b[0m\n\u001b[0m\u001b[1;32m    115\u001b[0m         \u001b[0;32melse\u001b[0m\u001b[0;34m:\u001b[0m\u001b[0;34m\u001b[0m\u001b[0;34m\u001b[0m\u001b[0m\n\u001b[1;32m    116\u001b[0m             \u001b[0mindex\u001b[0m \u001b[0;34m=\u001b[0m \u001b[0mensure_index\u001b[0m\u001b[0;34m(\u001b[0m\u001b[0mindex\u001b[0m\u001b[0;34m)\u001b[0m\u001b[0;34m\u001b[0m\u001b[0;34m\u001b[0m\u001b[0m\n",
            "\u001b[0;32m/usr/local/lib/python3.11/dist-packages/pandas/core/internals/construction.py\u001b[0m in \u001b[0;36m_extract_index\u001b[0;34m(data)\u001b[0m\n\u001b[1;32m    665\u001b[0m \u001b[0;34m\u001b[0m\u001b[0m\n\u001b[1;32m    666\u001b[0m     \u001b[0;32mif\u001b[0m \u001b[0;32mnot\u001b[0m \u001b[0mindexes\u001b[0m \u001b[0;32mand\u001b[0m \u001b[0;32mnot\u001b[0m \u001b[0mraw_lengths\u001b[0m\u001b[0;34m:\u001b[0m\u001b[0;34m\u001b[0m\u001b[0;34m\u001b[0m\u001b[0m\n\u001b[0;32m--> 667\u001b[0;31m         \u001b[0;32mraise\u001b[0m \u001b[0mValueError\u001b[0m\u001b[0;34m(\u001b[0m\u001b[0;34m\"If using all scalar values, you must pass an index\"\u001b[0m\u001b[0;34m)\u001b[0m\u001b[0;34m\u001b[0m\u001b[0;34m\u001b[0m\u001b[0m\n\u001b[0m\u001b[1;32m    668\u001b[0m \u001b[0;34m\u001b[0m\u001b[0m\n\u001b[1;32m    669\u001b[0m     \u001b[0;32mif\u001b[0m \u001b[0mhave_series\u001b[0m\u001b[0;34m:\u001b[0m\u001b[0;34m\u001b[0m\u001b[0;34m\u001b[0m\u001b[0m\n",
            "\u001b[0;31mValueError\u001b[0m: If using all scalar values, you must pass an index"
          ]
        }
      ],
      "source": [
        "#Ejer 1\n",
        "\n",
        "import pandas as pd\n",
        "\n",
        "anio_inicio= int(input(\"Introduce el año inicial \"))\n",
        "anio_final= int(input(\"Introduce el año final \"))\n",
        "\n",
        "ventas= {}\n",
        "for i in range(anio_inicio,anio_final+1):\n",
        "  ventas[i]=float(input(\"venta en el año \"+str(i)+': '))\n",
        "ventas= pd.Series(ventas)\n",
        "print('Ventas\\n',ventas)\n",
        "\n",
        "print('Ventas con descuento de 5%\\n',ventas*0.95)\n",
        "\n",
        "\n"
      ]
    },
    {
      "cell_type": "code",
      "source": [
        "#Ejer 1\n",
        "\n",
        "import pandas as pd\n",
        "\n",
        "anio_inicio= int(input(\"Introduce el año inicial \"))\n",
        "anio_final= int(input(\"Introduce el año final \"))\n",
        "\n",
        "ventas= {}\n",
        "ventas_pares = {}\n",
        "\n",
        "for i in range(anio_inicio,anio_final+1):\n",
        "  venta = float(input(\"venta en el año \"+str(i)+': '))\n",
        "  ventas[i] = venta\n",
        "  if i % 2 == 0:\n",
        "    ventas_pares[i] = venta\n",
        "\n",
        "ventas = pd.Series(ventas)\n",
        "ventas_pares = pd.Series(ventas_pares)\n",
        "venta=pd.DataFrame({'ventas\\t':ventas,'ventas con 5% de descuento\\t':ventas*0.95,'ventas pares\\t':ventas_pares,'ventas pares con descuento\\t':ventas_pares})\n",
        "\n",
        "print(venta)\n",
        "print(ventas_pares.tail(2))\n",
        "\n",
        "4\n",
        "\n",
        "\n"
      ],
      "metadata": {
        "colab": {
          "base_uri": "https://localhost:8080/"
        },
        "collapsed": true,
        "id": "UMvBB03g5xt4",
        "outputId": "72bb6a2f-55d5-4b3c-90d6-21d049c48047"
      },
      "execution_count": 23,
      "outputs": [
        {
          "output_type": "stream",
          "name": "stdout",
          "text": [
            "Introduce el año inicial 2000\n",
            "Introduce el año final 2007\n",
            "venta en el año 2000: 132\n",
            "venta en el año 2001: 456\n",
            "venta en el año 2002: 132\n",
            "venta en el año 2003: 54\n",
            "venta en el año 2004: 18\n",
            "venta en el año 2005: 1\n",
            "venta en el año 2006: 0\n",
            "venta en el año 2007: 15971.22545655554654645654\n",
            "          ventas\\t  ventas con 5% de descuento\\t  ventas pares\\t  \\\n",
            "2000    132.000000                    125.400000           132.0   \n",
            "2001    456.000000                    433.200000             NaN   \n",
            "2002    132.000000                    125.400000           132.0   \n",
            "2003     54.000000                     51.300000             NaN   \n",
            "2004     18.000000                     17.100000            18.0   \n",
            "2005      1.000000                      0.950000             NaN   \n",
            "2006      0.000000                      0.000000             0.0   \n",
            "2007  15971.225457                  15172.664184             NaN   \n",
            "\n",
            "      ventas pares con descuento\\t  \n",
            "2000                         132.0  \n",
            "2001                           NaN  \n",
            "2002                         132.0  \n",
            "2003                           NaN  \n",
            "2004                          18.0  \n",
            "2005                           NaN  \n",
            "2006                           0.0  \n",
            "2007                           NaN  \n",
            "2004    18.0\n",
            "2006     0.0\n",
            "dtype: float64\n"
          ]
        },
        {
          "output_type": "execute_result",
          "data": {
            "text/plain": [
              "4"
            ]
          },
          "metadata": {},
          "execution_count": 23
        }
      ]
    },
    {
      "cell_type": "markdown",
      "source": [
        "**Ejercicio2**:calculo de estadisricas basicas: media, mediana, desviacion estandar - numpy para el dataframe"
      ],
      "metadata": {
        "id": "MpYGmOM9wLyQ"
      }
    },
    {
      "cell_type": "code",
      "source": [
        "from ast import Index\n",
        "import pandas as pd\n",
        "import numpy as np\n",
        "\n",
        "\n",
        "#crear un dataframe\n",
        "data ={'Nombre':['Richard', 'Fernando', 'Maria', 'Abigail'],\n",
        "      'Edad':[180, 18, 10,25],\n",
        "      'Departamento':['Ica','Cajamarca','Junin','Lima']}\n",
        "\n",
        "\n",
        "df = pd.DataFrame(data)\n",
        "          # Set the 'Nombre' column as the index\n",
        "          #df.set_index('Nombre', inplace=True)\n",
        "print(df)\n",
        "\n",
        "print(\"\\n\\n\")\n",
        "#calcular la media utilizando numpy\n",
        "media_edad=np.mean(df['Edad'])\n",
        "print('La media de la edad es: ',media_edad)\n",
        "\n",
        "#calcular la mediana utilizando numpy\n",
        "mediana_edad=np.median(df['Edad'])\n",
        "print('La mediana de la edad es: ',mediana_edad)\n",
        "\n",
        "#calcular la desviacion utilizando numpy\n",
        "desviacion_edad=np.std(df['Edad'])\n",
        "print('La desviacion estandar de la edad es: ',desviacion_edad)\n",
        "\n",
        "#calcular el maximo utilizando numpy\n",
        "maximo_edad=np.max(df['Edad'])\n",
        "print('El valor maximo de la edad es: ',maximo_edad)\n",
        "\n",
        "#calcular el minimo utilizando numpy\n",
        "minimo_edad=np.min(df['Edad'])\n",
        "print('El valor minimo de la edad es: ',minimo_edad)\n",
        "\n",
        "print()"
      ],
      "metadata": {
        "colab": {
          "base_uri": "https://localhost:8080/"
        },
        "id": "hqUyiT0GwMqA",
        "outputId": "5a68f273-1923-418d-f40d-835a2233b172"
      },
      "execution_count": 38,
      "outputs": [
        {
          "output_type": "stream",
          "name": "stdout",
          "text": [
            "     Nombre  Edad Departamento\n",
            "0   Richard   180          Ica\n",
            "1  Fernando    18    Cajamarca\n",
            "2     Maria    10        Junin\n",
            "3   Abigail    25         Lima\n",
            "\n",
            "\n",
            "\n",
            "La media de la edad es:  58.25\n",
            "La mediana de la edad es:  21.5\n",
            "La desviacion estandar de la edad es:  70.49246413624651\n",
            "El valor maximo de la edad es:  180\n",
            "El valor minimo de la edad es:  10\n"
          ]
        }
      ]
    },
    {
      "cell_type": "markdown",
      "source": [],
      "metadata": {
        "id": "bNG58FtAwMX3"
      }
    }
  ]
}